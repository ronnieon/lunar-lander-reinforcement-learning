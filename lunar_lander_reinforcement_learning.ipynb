{
 "cells": [
  {
   "cell_type": "code",
   "execution_count": 35,
   "metadata": {
    "deletable": false,
    "editable": false,
    "id": "KYbOPKRtfQOr"
   },
   "outputs": [],
   "source": [
    "import time\n",
    "from collections import deque, namedtuple\n",
    "import gym\n",
    "import numpy as np\n",
    "import PIL.Image\n",
    "import tensorflow as tf\n",
    "import utils"
   ]
  },
  {
   "cell_type": "code",
   "execution_count": 36,
   "metadata": {
    "deletable": false,
    "editable": false
   },
   "outputs": [],
   "source": [
    "tf.random.set_seed(utils.SEED)"
   ]
  },
  {
   "cell_type": "code",
   "execution_count": null,
   "metadata": {
    "deletable": false,
    "editable": false
   },
   "outputs": [],
   "source": [
    "MEMORY_SIZE = 100_000     \n",
    "GAMMA = 0.995             \n",
    "ALPHA = 1e-3              \n",
    "NUM_STEPS_FOR_UPDATE = 4"
   ]
  },
  {
   "cell_type": "code",
   "execution_count": 38,
   "metadata": {
    "deletable": false,
    "editable": false,
    "id": "ILVMYKewfR0n"
   },
   "outputs": [],
   "source": [
    "env = gym.make('LunarLander-v2')"
   ]
  },
  {
   "cell_type": "code",
   "execution_count": 39,
   "metadata": {
    "deletable": false,
    "editable": false
   },
   "outputs": [],
   "source": [
    "env = gym.make('LunarLander-v2', render_mode='rgb_array')\n",
    "obs, info = env.reset()\n",
    "frame = env.render()\n",
    "\n",
    "img = PIL.Image.fromarray(frame)\n",
    "img.show()"
   ]
  },
  {
   "cell_type": "code",
   "execution_count": 40,
   "metadata": {
    "deletable": false,
    "editable": false,
    "id": "x3fdqdG4CUu2"
   },
   "outputs": [
    {
     "name": "stdout",
     "output_type": "stream",
     "text": [
      "State Shape: (8,)\n",
      "Number of actions: 4\n"
     ]
    }
   ],
   "source": [
    "state_size = env.observation_space.shape\n",
    "num_actions = env.action_space.n\n",
    "\n",
    "print('State Shape:', state_size)\n",
    "print('Number of actions:', num_actions)"
   ]
  },
  {
   "cell_type": "code",
   "execution_count": 41,
   "metadata": {
    "deletable": false,
    "editable": false
   },
   "outputs": [],
   "source": [
    "# Reset the environment\n",
    "current_state = env.reset()"
   ]
  },
  {
   "cell_type": "code",
   "execution_count": null,
   "metadata": {
    "deletable": false
   },
   "outputs": [
    {
     "name": "stderr",
     "output_type": "stream",
     "text": [
      "/Users/rajnishdadarwal/Documents/Files/Github/moon lander/utils.py:338: FutureWarning: Styler.applymap has been deprecated. Use Styler.map instead.\n",
      "  pd.DataFrame({\n"
     ]
    },
    {
     "data": {
      "text/html": [
       "<style type=\"text/css\">\n",
       "#T_034dd th {\n",
       "  border: 1px solid grey;\n",
       "  text-align: center;\n",
       "}\n",
       "#T_034dd tbody td {\n",
       "  border: 1px solid grey;\n",
       "  text-align: center;\n",
       "}\n",
       "#T_034dd_row0_col0, #T_034dd_row1_col1, #T_034dd_row1_col2, #T_034dd_row1_col3, #T_034dd_row1_col4, #T_034dd_row1_col5, #T_034dd_row1_col6, #T_034dd_row1_col7, #T_034dd_row1_col8, #T_034dd_row1_col9, #T_034dd_row1_col10, #T_034dd_row1_col11, #T_034dd_row2_col0, #T_034dd_row3_col1, #T_034dd_row3_col2, #T_034dd_row3_col3, #T_034dd_row3_col4, #T_034dd_row3_col5, #T_034dd_row3_col6, #T_034dd_row3_col7, #T_034dd_row3_col8, #T_034dd_row3_col9, #T_034dd_row3_col10, #T_034dd_row3_col11, #T_034dd_row4_col1, #T_034dd_row4_col2, #T_034dd_row4_col3, #T_034dd_row4_col4, #T_034dd_row4_col5, #T_034dd_row4_col6, #T_034dd_row4_col7, #T_034dd_row4_col8, #T_034dd_row4_col9, #T_034dd_row4_col10, #T_034dd_row4_col11 {\n",
       "  background-color: grey;\n",
       "}\n",
       "</style>\n",
       "<table id=\"T_034dd\">\n",
       "  <thead>\n",
       "    <tr>\n",
       "      <th class=\"blank level0\" >&nbsp;</th>\n",
       "      <th id=\"T_034dd_level0_col0\" class=\"col_heading level0 col0\" ></th>\n",
       "      <th id=\"T_034dd_level0_col1\" class=\"col_heading level0 col1\" colspan=\"8\">State Vector</th>\n",
       "      <th id=\"T_034dd_level0_col9\" class=\"col_heading level0 col9\" colspan=\"3\">Derived from the State Vector (the closer to zero, the better)</th>\n",
       "    </tr>\n",
       "    <tr>\n",
       "      <th class=\"blank level1\" >&nbsp;</th>\n",
       "      <th id=\"T_034dd_level1_col0\" class=\"col_heading level1 col0\" ></th>\n",
       "      <th id=\"T_034dd_level1_col1\" class=\"col_heading level1 col1\" colspan=\"2\">Coordinate</th>\n",
       "      <th id=\"T_034dd_level1_col3\" class=\"col_heading level1 col3\" colspan=\"2\">Velocity</th>\n",
       "      <th id=\"T_034dd_level1_col5\" class=\"col_heading level1 col5\" colspan=\"2\">Tilting</th>\n",
       "      <th id=\"T_034dd_level1_col7\" class=\"col_heading level1 col7\" colspan=\"2\">Ground contact</th>\n",
       "      <th id=\"T_034dd_level1_col9\" class=\"col_heading level1 col9\" >Distance from landing pad</th>\n",
       "      <th id=\"T_034dd_level1_col10\" class=\"col_heading level1 col10\" >Velocity</th>\n",
       "      <th id=\"T_034dd_level1_col11\" class=\"col_heading level1 col11\" >Tilting Angle (absolute value)</th>\n",
       "    </tr>\n",
       "    <tr>\n",
       "      <th class=\"blank level2\" >&nbsp;</th>\n",
       "      <th id=\"T_034dd_level2_col0\" class=\"col_heading level2 col0\" ></th>\n",
       "      <th id=\"T_034dd_level2_col1\" class=\"col_heading level2 col1\" >X (Horizontal)</th>\n",
       "      <th id=\"T_034dd_level2_col2\" class=\"col_heading level2 col2\" >Y (Vertical)</th>\n",
       "      <th id=\"T_034dd_level2_col3\" class=\"col_heading level2 col3\" >X (Horizontal)</th>\n",
       "      <th id=\"T_034dd_level2_col4\" class=\"col_heading level2 col4\" >Y (Vertical)</th>\n",
       "      <th id=\"T_034dd_level2_col5\" class=\"col_heading level2 col5\" >Angle</th>\n",
       "      <th id=\"T_034dd_level2_col6\" class=\"col_heading level2 col6\" >Angular Velocity</th>\n",
       "      <th id=\"T_034dd_level2_col7\" class=\"col_heading level2 col7\" >Left Leg?</th>\n",
       "      <th id=\"T_034dd_level2_col8\" class=\"col_heading level2 col8\" >Right Leg?</th>\n",
       "      <th id=\"T_034dd_level2_col9\" class=\"col_heading level2 col9\" ></th>\n",
       "      <th id=\"T_034dd_level2_col10\" class=\"col_heading level2 col10\" ></th>\n",
       "      <th id=\"T_034dd_level2_col11\" class=\"col_heading level2 col11\" ></th>\n",
       "    </tr>\n",
       "  </thead>\n",
       "  <tbody>\n",
       "    <tr>\n",
       "      <th id=\"T_034dd_level0_row0\" class=\"row_heading level0 row0\" >Current State</th>\n",
       "      <td id=\"T_034dd_row0_col0\" class=\"data row0 col0\" ></td>\n",
       "      <td id=\"T_034dd_row0_col1\" class=\"data row0 col1\" >0.007664</td>\n",
       "      <td id=\"T_034dd_row0_col2\" class=\"data row0 col2\" >1.411529</td>\n",
       "      <td id=\"T_034dd_row0_col3\" class=\"data row0 col3\" >0.776294</td>\n",
       "      <td id=\"T_034dd_row0_col4\" class=\"data row0 col4\" >0.027050</td>\n",
       "      <td id=\"T_034dd_row0_col5\" class=\"data row0 col5\" >-0.008874</td>\n",
       "      <td id=\"T_034dd_row0_col6\" class=\"data row0 col6\" >-0.175842</td>\n",
       "      <td id=\"T_034dd_row0_col7\" class=\"data row0 col7\" >False</td>\n",
       "      <td id=\"T_034dd_row0_col8\" class=\"data row0 col8\" >False</td>\n",
       "      <td id=\"T_034dd_row0_col9\" class=\"data row0 col9\" >1.411550</td>\n",
       "      <td id=\"T_034dd_row0_col10\" class=\"data row0 col10\" >0.776765</td>\n",
       "      <td id=\"T_034dd_row0_col11\" class=\"data row0 col11\" >0.008874</td>\n",
       "    </tr>\n",
       "    <tr>\n",
       "      <th id=\"T_034dd_level0_row1\" class=\"row_heading level0 row1\" >Action</th>\n",
       "      <td id=\"T_034dd_row1_col0\" class=\"data row1 col0\" >Do nothing</td>\n",
       "      <td id=\"T_034dd_row1_col1\" class=\"data row1 col1\" ></td>\n",
       "      <td id=\"T_034dd_row1_col2\" class=\"data row1 col2\" ></td>\n",
       "      <td id=\"T_034dd_row1_col3\" class=\"data row1 col3\" ></td>\n",
       "      <td id=\"T_034dd_row1_col4\" class=\"data row1 col4\" ></td>\n",
       "      <td id=\"T_034dd_row1_col5\" class=\"data row1 col5\" ></td>\n",
       "      <td id=\"T_034dd_row1_col6\" class=\"data row1 col6\" ></td>\n",
       "      <td id=\"T_034dd_row1_col7\" class=\"data row1 col7\" ></td>\n",
       "      <td id=\"T_034dd_row1_col8\" class=\"data row1 col8\" ></td>\n",
       "      <td id=\"T_034dd_row1_col9\" class=\"data row1 col9\" ></td>\n",
       "      <td id=\"T_034dd_row1_col10\" class=\"data row1 col10\" ></td>\n",
       "      <td id=\"T_034dd_row1_col11\" class=\"data row1 col11\" ></td>\n",
       "    </tr>\n",
       "    <tr>\n",
       "      <th id=\"T_034dd_level0_row2\" class=\"row_heading level0 row2\" >Next State</th>\n",
       "      <td id=\"T_034dd_row2_col0\" class=\"data row2 col0\" ></td>\n",
       "      <td id=\"T_034dd_row2_col1\" class=\"data row2 col1\" >0.015329</td>\n",
       "      <td id=\"T_034dd_row2_col2\" class=\"data row2 col2\" >1.411562</td>\n",
       "      <td id=\"T_034dd_row2_col3\" class=\"data row2 col3\" >0.775245</td>\n",
       "      <td id=\"T_034dd_row2_col4\" class=\"data row2 col4\" >0.001368</td>\n",
       "      <td id=\"T_034dd_row2_col5\" class=\"data row2 col5\" >-0.017563</td>\n",
       "      <td id=\"T_034dd_row2_col6\" class=\"data row2 col6\" >-0.173797</td>\n",
       "      <td id=\"T_034dd_row2_col7\" class=\"data row2 col7\" >False</td>\n",
       "      <td id=\"T_034dd_row2_col8\" class=\"data row2 col8\" >False</td>\n",
       "      <td id=\"T_034dd_row2_col9\" class=\"data row2 col9\" >1.411645</td>\n",
       "      <td id=\"T_034dd_row2_col10\" class=\"data row2 col10\" >0.775246</td>\n",
       "      <td id=\"T_034dd_row2_col11\" class=\"data row2 col11\" >0.017563</td>\n",
       "    </tr>\n",
       "    <tr>\n",
       "      <th id=\"T_034dd_level0_row3\" class=\"row_heading level0 row3\" >Reward</th>\n",
       "      <td id=\"T_034dd_row3_col0\" class=\"data row3 col0\" >-0.726491</td>\n",
       "      <td id=\"T_034dd_row3_col1\" class=\"data row3 col1\" ></td>\n",
       "      <td id=\"T_034dd_row3_col2\" class=\"data row3 col2\" ></td>\n",
       "      <td id=\"T_034dd_row3_col3\" class=\"data row3 col3\" ></td>\n",
       "      <td id=\"T_034dd_row3_col4\" class=\"data row3 col4\" ></td>\n",
       "      <td id=\"T_034dd_row3_col5\" class=\"data row3 col5\" ></td>\n",
       "      <td id=\"T_034dd_row3_col6\" class=\"data row3 col6\" ></td>\n",
       "      <td id=\"T_034dd_row3_col7\" class=\"data row3 col7\" ></td>\n",
       "      <td id=\"T_034dd_row3_col8\" class=\"data row3 col8\" ></td>\n",
       "      <td id=\"T_034dd_row3_col9\" class=\"data row3 col9\" ></td>\n",
       "      <td id=\"T_034dd_row3_col10\" class=\"data row3 col10\" ></td>\n",
       "      <td id=\"T_034dd_row3_col11\" class=\"data row3 col11\" ></td>\n",
       "    </tr>\n",
       "    <tr>\n",
       "      <th id=\"T_034dd_level0_row4\" class=\"row_heading level0 row4\" >Episode Terminated</th>\n",
       "      <td id=\"T_034dd_row4_col0\" class=\"data row4 col0\" >False</td>\n",
       "      <td id=\"T_034dd_row4_col1\" class=\"data row4 col1\" ></td>\n",
       "      <td id=\"T_034dd_row4_col2\" class=\"data row4 col2\" ></td>\n",
       "      <td id=\"T_034dd_row4_col3\" class=\"data row4 col3\" ></td>\n",
       "      <td id=\"T_034dd_row4_col4\" class=\"data row4 col4\" ></td>\n",
       "      <td id=\"T_034dd_row4_col5\" class=\"data row4 col5\" ></td>\n",
       "      <td id=\"T_034dd_row4_col6\" class=\"data row4 col6\" ></td>\n",
       "      <td id=\"T_034dd_row4_col7\" class=\"data row4 col7\" ></td>\n",
       "      <td id=\"T_034dd_row4_col8\" class=\"data row4 col8\" ></td>\n",
       "      <td id=\"T_034dd_row4_col9\" class=\"data row4 col9\" ></td>\n",
       "      <td id=\"T_034dd_row4_col10\" class=\"data row4 col10\" ></td>\n",
       "      <td id=\"T_034dd_row4_col11\" class=\"data row4 col11\" ></td>\n",
       "    </tr>\n",
       "  </tbody>\n",
       "</table>\n"
      ],
      "text/plain": [
       "<pandas.io.formats.style.Styler at 0x156f13460>"
      ]
     },
     "metadata": {},
     "output_type": "display_data"
    }
   ],
   "source": [
    "# Reset the environment\n",
    "current_state, _ = env.reset()\n",
    "action = 0\n",
    "\n",
    "# Step through the environment\n",
    "next_state, reward, terminated, truncated, _ = env.step(action)\n",
    "done = terminated or truncated\n",
    "\n",
    "# Display the values\n",
    "utils.display_table(current_state, action, next_state, reward, done)\n",
    "\n",
    "# Update the current state\n",
    "current_state = next_state\n"
   ]
  },
  {
   "cell_type": "code",
   "execution_count": null,
   "metadata": {
    "deletable": false
   },
   "outputs": [],
   "source": [
    "q_network = tf.keras.models.Sequential([\n",
    "    tf.keras.Input(shape = state_size),\n",
    "    tf.keras.layers.Dense(units = 64, activation = \"relu\"),\n",
    "    tf.keras.layers.Dense(units = 64, activation = \"relu\"),\n",
    "    tf.keras.layers.Dense(units = num_actions, activation = \"linear\")\n",
    "    ])\n",
    "\n",
    "target_q_network = tf.keras.models.Sequential([\n",
    "    tf.keras.Input(shape = state_size),\n",
    "    tf.keras.layers.Dense(units = 64, activation = \"relu\"),\n",
    "    tf.keras.layers.Dense(units = 64, activation = \"relu\"),\n",
    "    tf.keras.layers.Dense(units = num_actions, activation = \"linear\")\n",
    "    ])\n",
    "\n",
    "optimizer = tf.keras.optimizers.Adam(learning_rate = ALPHA)"
   ]
  },
  {
   "cell_type": "code",
   "execution_count": 44,
   "metadata": {
    "deletable": false,
    "editable": false
   },
   "outputs": [],
   "source": [
    "experience = namedtuple(\"Experience\", field_names=[\"state\", \"action\", \"reward\", \"next_state\", \"done\"])"
   ]
  },
  {
   "cell_type": "code",
   "execution_count": null,
   "metadata": {
    "deletable": false
   },
   "outputs": [],
   "source": [
    "def compute_loss(experiences, gamma, q_network, target_q_network):\n",
    "\n",
    "  # Unpack the mini-batch of experience tuples\n",
    "  states, actions, rewards, next_states, done_vals = experiences\n",
    "    \n",
    "  # Compute max Q^(s,a)\n",
    "  max_qsa = tf.reduce_max(target_q_network(next_states), axis=-1)\n",
    "    \n",
    "  # Set y = R if episode terminates, otherwise set y = R + gamma max Q^(s,a).\n",
    "  y_targets = rewards + (gamma * max_qsa * (1 - done_vals))\n",
    "    \n",
    "  # Get the q_values and reshape to match y_targets\n",
    "  q_values = q_network(states)\n",
    "  q_values = tf.gather_nd(q_values, tf.stack([tf.range(q_values.shape[0]), tf.cast(actions, tf.int32)], axis=1))\n",
    "        \n",
    "  # Compute the loss\n",
    "  loss = tf.keras.losses.MSE(y_targets, q_values)\n",
    "  return loss"
   ]
  },
  {
   "cell_type": "code",
   "execution_count": null,
   "metadata": {
    "deletable": false,
    "editable": false
   },
   "outputs": [],
   "source": [
    "@tf.function\n",
    "def agent_learn(experiences, gamma):\n",
    "  \n",
    "  with tf.GradientTape() as tape:\n",
    "    loss = compute_loss(experiences, gamma, q_network, target_q_network)\n",
    "\n",
    "  gradients = tape.gradient(loss, q_network.trainable_variables)\n",
    "  optimizer.apply_gradients(zip(gradients, q_network.trainable_variables))\n",
    "\n",
    "  # update the weights of target q_network\n",
    "  utils.update_target_network(q_network, target_q_network)"
   ]
  },
  {
   "cell_type": "code",
   "execution_count": null,
   "metadata": {
    "deletable": false,
    "editable": false
   },
   "outputs": [
    {
     "name": "stdout",
     "output_type": "stream",
     "text": [
      "Episode 69 | Total point average of the last 100 episodes: -63.41\n",
      "Total Runtime: 1.30 s (0.02 min)\n"
     ]
    }
   ],
   "source": [
    "start = time.time()\n",
    "\n",
    "num_episodes = 2000\n",
    "max_num_timesteps = 1000\n",
    "\n",
    "total_point_history = []\n",
    "\n",
    "num_p_av = 100    \n",
    "epsilon = 1.0     \n",
    "\n",
    "# memory buffer D with capacity N\n",
    "memory_buffer = deque(maxlen=MEMORY_SIZE)\n",
    "\n",
    "# target network weights equal to the Q-Network weights\n",
    "target_q_network.set_weights(q_network.get_weights())\n",
    "\n",
    "state, _ = env.reset()\n",
    "total_points = 0\n",
    "\n",
    "for i in range(max_num_timesteps):\n",
    "    \n",
    "    state_qn = np.expand_dims(state, axis=0).astype(np.float32)\n",
    "    q_values = q_network(state_qn)\n",
    "    action = utils.get_action(q_values, epsilon)\n",
    "    \n",
    "    next_state, reward, terminated, truncated, _ = env.step(action)\n",
    "    done = terminated or truncated\n",
    "\n",
    "    memory_buffer.append(experience(state, action, reward, next_state, done))\n",
    "    \n",
    "    if utils.check_update_conditions(i, NUM_STEPS_FOR_UPDATE, memory_buffer):\n",
    "        experiences = utils.get_experiences(memory_buffer)\n",
    "        agent_learn(experiences, GAMMA)\n",
    "    \n",
    "    state = next_state.copy()\n",
    "    total_points += reward\n",
    "    \n",
    "    if done:\n",
    "        break\n",
    "\n",
    "            \n",
    "    total_point_history.append(total_points)\n",
    "    av_latest_points = np.mean(total_point_history[-num_p_av:])\n",
    "    \n",
    "    epsilon = utils.get_new_eps(epsilon)\n",
    "\n",
    "    print(f\"\\rEpisode {i+1} | Total point average of the last {num_p_av} episodes: {av_latest_points:.2f}\", end=\"\")\n",
    "\n",
    "    if (i+1) % num_p_av == 0:\n",
    "        print(f\"\\rEpisode {i+1} | Total point average of the last {num_p_av} episodes: {av_latest_points:.2f}\")\n",
    "\n",
    "    # average of 200 points in the last 100 episodes.\n",
    "    if av_latest_points >= 200.0:\n",
    "        print(f\"\\n\\nEnvironment solved in {i+1} episodes!\")\n",
    "        q_network.save('lunar_lander_model.h5')\n",
    "        break\n",
    "        \n",
    "tot_time = time.time() - start\n",
    "\n",
    "print(f\"\\nTotal Runtime: {tot_time:.2f} s ({(tot_time/60):.2f} min)\")"
   ]
  },
  {
   "cell_type": "code",
   "execution_count": null,
   "metadata": {
    "deletable": false,
    "editable": false,
    "id": "E_EUXxurfe8m",
    "scrolled": false
   },
   "outputs": [
    {
     "data": {
      "image/png": "[encoded data removed]",
      "text/plain": [
       "<Figure size 1000x700 with 1 Axes>"
      ]
     },
     "metadata": {},
     "output_type": "display_data"
    }
   ],
   "source": [
    "utils.plot_history(total_point_history)"
   ]
  },
  {
   "cell_type": "code",
   "execution_count": 49,
   "metadata": {
    "deletable": false,
    "editable": false
   },
   "outputs": [],
   "source": [
    "# Suppress warnings from imageio\n",
    "import logging\n",
    "logging.getLogger().setLevel(logging.ERROR)"
   ]
  },
  {
   "cell_type": "code",
   "execution_count": null,
   "metadata": {},
   "outputs": [],
   "source": [
    "# Create the environment with correct render_mode\n",
    "env = gym.make(\"LunarLander-v2\", render_mode=\"rgb_array\")\n",
    "\n",
    "# Save video\n",
    "filename = \"video.mp4\"\n",
    "utils.create_video(filename, env, q_network)\n",
    "utils.embed_mp4(filename)"
   ]
  }
 ],
 "metadata": {
  "accelerator": "GPU",
  "colab": {
   "collapsed_sections": [],
   "name": "TensorFlow - Lunar Lander.ipynb",
   "provenance": []
  },
  "kernelspec": {
   "display_name": "3.9.6",
   "language": "python",
   "name": "python3"
  },
  "language_info": {
   "codemirror_mode": {
    "name": "ipython",
    "version": 3
   },
   "file_extension": ".py",
   "mimetype": "text/x-python",
   "name": "python",
   "nbconvert_exporter": "python",
   "pygments_lexer": "ipython3",
   "version": "3.9.6"
  }
 },
 "nbformat": 4,
 "nbformat_minor": 1
}
